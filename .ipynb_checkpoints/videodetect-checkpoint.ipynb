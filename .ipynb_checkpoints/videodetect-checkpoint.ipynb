{
 "cells": [
  {
   "cell_type": "markdown",
   "id": "a7a7f3e3-b0c8-46ea-bca6-7ba20ac3812b",
   "metadata": {
    "jp-MarkdownHeadingCollapsed": true
   },
   "source": [
    "## 影片辨識\n"
   ]
  },
  {
   "cell_type": "code",
   "execution_count": 4,
   "id": "7cf394b4-673e-428c-892d-c8d1946a10d9",
   "metadata": {},
   "outputs": [
    {
     "name": "stdout",
     "output_type": "stream",
     "text": [
      "True\n",
      "1\n",
      "NVIDIA GeForce RTX 3050 Laptop GPU\n"
     ]
    }
   ],
   "source": [
    "import torch\n",
    "print(torch.cuda.is_available())  # 確保為 True\n",
    "print(torch.cuda.device_count())  # 確保大於 0\n",
    "print(torch.cuda.get_device_name(0))  # 顯示 GPU 名稱\n"
   ]
  },
  {
   "cell_type": "code",
   "execution_count": 5,
   "id": "be47f20b-5163-44eb-aaf8-2059ab82f9a6",
   "metadata": {},
   "outputs": [
    {
     "name": "stdout",
     "output_type": "stream",
     "text": [
      "C:\\Users\\Admin\\Desktop\\yolov9\n"
     ]
    }
   ],
   "source": [
    "import os\n",
    "HOME = os.getcwd()\n",
    "print (HOME)"
   ]
  },
  {
   "cell_type": "code",
   "execution_count": 6,
   "id": "9de9086f-dc3d-4d02-b68e-686c20b357a8",
   "metadata": {},
   "outputs": [
    {
     "name": "stdout",
     "output_type": "stream",
     "text": [
      "C:\\Users\\Admin\\Desktop\\yolov9\\yolov9\n"
     ]
    }
   ],
   "source": [
    "%cd {HOME}/yolov9"
   ]
  },
  {
   "cell_type": "code",
   "execution_count": 3,
   "id": "6e14ef14-b5cf-4752-8371-09b37d61358c",
   "metadata": {},
   "outputs": [
    {
     "name": "stderr",
     "output_type": "stream",
     "text": [
      "INFO:__main__:開始處理影片\n",
      "INFO:__main__:提取影片幀\n",
      "INFO:__main__:來源影片 FPS: 29\n",
      "INFO:__main__:取樣率: 每 0.03 秒一幀\n",
      "INFO:__main__:每 1 幀擷取一次\n",
      "INFO:__main__:總幀數: 387, 擷取幀數: 387\n",
      "INFO:__main__:執行 YOLO 偵測\n",
      "INFO:__main__:移動偵測後的圖片\n",
      "INFO:__main__:找到最新的 exp 資料夾: runs\\detect\\exp39\n"
     ]
    },
    {
     "name": "stdout",
     "output_type": "stream",
     "text": [
      "runs\\detect\\exp39\n"
     ]
    },
    {
     "name": "stderr",
     "output_type": "stream",
     "text": [
      "INFO:__main__:成功移動 387 個檔案到 C:\\Users\\Admin\\Desktop\\yolov9\\yolov9\\runs\\result\\TEST1\\dimg\\0215\n",
      "INFO:__main__:合成輸出影片\n",
      "INFO:__main__:處理完成，輸出影片: C:\\Users\\Admin\\Desktop\\yolov9\\yolov9\\runs\\result\\TEST1\\vid\\0215.avi\n"
     ]
    }
   ],
   "source": [
    "import cv2\n",
    "import os\n",
    "import subprocess\n",
    "import shutil\n",
    "from pathlib import Path\n",
    "import logging\n",
    "from typing import Optional\n",
    "import re  \n",
    "\n",
    "class VideoProcessor:\n",
    "    def __init__(self, video_path: str, frames_folder: str, detected_folder: str, \n",
    "                 output_video: str, weights_path: str, target_fps: int = 5,\n",
    "                 sample_rate: float = 1.0):\n",
    "        self.video_path = Path(video_path)\n",
    "        self.frames_folder = Path(frames_folder)\n",
    "        self.detected_folder = Path(detected_folder)\n",
    "        self.output_video = Path(output_video)\n",
    "        self.weights_path = Path(weights_path)\n",
    "        self.target_fps = target_fps\n",
    "        self.sample_rate = sample_rate\n",
    "        \n",
    "        logging.basicConfig(level=logging.INFO)\n",
    "        self.logger = logging.getLogger(__name__)\n",
    "        \n",
    "    def setup_folders(self):\n",
    "        \"\"\"建立必要的資料夾\"\"\"\n",
    "        try:\n",
    "            self.frames_folder.mkdir(parents=True, exist_ok=True)\n",
    "            self.detected_folder.mkdir(parents=True, exist_ok=True)\n",
    "            self.output_video.parent.mkdir(parents=True, exist_ok=True)\n",
    "        except Exception as e:\n",
    "            self.logger.error(f\"建立資料夾時發生錯誤: {e}\")\n",
    "            raise\n",
    "\n",
    "    def extract_frames(self) -> tuple[int, int, int]:\n",
    "        \"\"\"從影片中提取幀\"\"\"\n",
    "        if not self.video_path.exists():\n",
    "            raise FileNotFoundError(f\"找不到影片檔案: {self.video_path}\")\n",
    "\n",
    "        cap = cv2.VideoCapture(str(self.video_path))\n",
    "        if not cap.isOpened():\n",
    "            raise RuntimeError(\"無法開啟影片檔案\")\n",
    "\n",
    "        try:\n",
    "            frame_width = int(cap.get(cv2.CAP_PROP_FRAME_WIDTH))\n",
    "            frame_height = int(cap.get(cv2.CAP_PROP_FRAME_HEIGHT))\n",
    "            source_fps = int(cap.get(cv2.CAP_PROP_FPS))\n",
    "            \n",
    "            # 計算需要跳過的幀數\n",
    "            frames_to_skip = int(source_fps / self.sample_rate)\n",
    "            if frames_to_skip < 1:\n",
    "                frames_to_skip = 1\n",
    "                \n",
    "            self.logger.info(f\"來源影片 FPS: {source_fps}\")\n",
    "            self.logger.info(f\"取樣率: 每 {1/self.sample_rate:.2f} 秒一幀\")\n",
    "            self.logger.info(f\"每 {frames_to_skip} 幀擷取一次\")\n",
    "\n",
    "            frame_count = 0\n",
    "            actual_frame_count = 0\n",
    "            \n",
    "            while True:\n",
    "                ret, frame = cap.read()\n",
    "                if not ret:\n",
    "                    break\n",
    "\n",
    "                # 根據取樣率決定是否保存這一幀\n",
    "                if frame_count % frames_to_skip == 0:\n",
    "                    frame_path = self.frames_folder / f'frame_{actual_frame_count:04d}.jpg'\n",
    "                    cv2.imwrite(str(frame_path), frame)\n",
    "                    actual_frame_count += 1\n",
    "                \n",
    "                frame_count += 1\n",
    "\n",
    "            self.logger.info(f\"總幀數: {frame_count}, 擷取幀數: {actual_frame_count}\")\n",
    "            return frame_width, frame_height, actual_frame_count\n",
    "        finally:\n",
    "            cap.release()\n",
    "\n",
    "    def run_yolo_detection(self):\n",
    "        \"\"\"執行 YOLO 偵測\"\"\"\n",
    "        try:\n",
    "            subprocess.run([\n",
    "                \"python\", \"detect.py\",\n",
    "                \"--img\", \"640\",\n",
    "                \"--conf\", \"0.1\",\n",
    "                \"--device\", \"0\",\n",
    "                \"--weights\", str(self.weights_path),\n",
    "                \"--source\", str(self.frames_folder)\n",
    "            ], check=True)\n",
    "        except subprocess.CalledProcessError as e:\n",
    "            self.logger.error(f\"YOLO 偵測失敗: {e}\")\n",
    "            raise\n",
    "    ##找最新的exp資料夾\n",
    "    def get_latest_exp_folder(self) -> Path:\n",
    "        \"\"\"\n",
    "        找到最新的 exp 資料夾\n",
    "        Returns:\n",
    "            Path: 最新的 exp 資料夾路徑\n",
    "        \"\"\"\n",
    "        base_dir = Path('runs/detect')\n",
    "        if not base_dir.exists():\n",
    "            raise RuntimeError(f\"找不到 detect 資料夾: {base_dir}\")\n",
    "\n",
    "        # 取得所有 exp 開頭的資料夾\n",
    "        exp_folders = [f for f in base_dir.iterdir() if f.is_dir() and f.name.startswith('exp')]\n",
    "        \n",
    "        if not exp_folders:\n",
    "            raise RuntimeError(\"找不到任何 exp 資料夾\")\n",
    "\n",
    "        # 解析資料夾名稱中的數字\n",
    "        def get_exp_number(folder_name: str) -> int:\n",
    "            # 處理 'exp' 的情況\n",
    "            if folder_name == 'exp':\n",
    "                return 0\n",
    "            # 處理 'expN' 的情況\n",
    "            match = re.match(r'exp(\\d+)', folder_name)\n",
    "            return int(match.group(1)) if match else 0\n",
    "\n",
    "        # 根據數字排序並取得最新的資料夾\n",
    "        latest_exp = max(exp_folders, key=lambda x: get_exp_number(x.name))\n",
    "        print(latest_exp)\n",
    "        self.logger.info(f\"找到最新的 exp 資料夾: {latest_exp}\")\n",
    "        return latest_exp\n",
    "        \n",
    "    def move_detected_images(self):\n",
    "        \"\"\"移動 YOLO 偵測後的圖片\"\"\"\n",
    "        try:\n",
    "            exp_folder = self.get_latest_exp_folder()\n",
    "            if not exp_folder.exists():\n",
    "                raise RuntimeError(f\"找不到 YOLO 輸出資料夾: {exp_folder}\")\n",
    "\n",
    "            # 確保目標資料夾存在\n",
    "            self.detected_folder.mkdir(parents=True, exist_ok=True)\n",
    "\n",
    "            # 移動所有圖片檔案\n",
    "            moved_count = 0\n",
    "            for img_file in exp_folder.glob('*.jpg'):\n",
    "                target_path = self.detected_folder / img_file.name\n",
    "                shutil.move(str(img_file), str(target_path))\n",
    "                moved_count += 1\n",
    "\n",
    "            self.logger.info(f\"成功移動 {moved_count} 個檔案到 {self.detected_folder}\")\n",
    "\n",
    "            if moved_count == 0:\n",
    "                self.logger.warning(\"沒有找到任何圖片檔案需要移動\")\n",
    "\n",
    "        except Exception as e:\n",
    "            self.logger.error(f\"移動檔案時發生錯誤: {e}\")\n",
    "            raise\n",
    "\n",
    "    def create_video(self, frame_width: int, frame_height: int):\n",
    "        \"\"\"將圖片合成為影片\"\"\"\n",
    "        output_frames = sorted(os.listdir(self.detected_folder))\n",
    "        if not output_frames:\n",
    "            raise RuntimeError(\"沒有找到要處理的圖片\")\n",
    "\n",
    "        fourcc = cv2.VideoWriter_fourcc(*'XVID')\n",
    "        out = cv2.VideoWriter(str(self.output_video), fourcc, \n",
    "                            self.target_fps, (frame_width, frame_height))\n",
    "\n",
    "        try:\n",
    "            for frame_file in output_frames:\n",
    "                frame_path = self.detected_folder / frame_file\n",
    "                frame = cv2.imread(str(frame_path))\n",
    "                \n",
    "                if frame is None:\n",
    "                    self.logger.warning(f\"無法讀取圖片: {frame_path}\")\n",
    "                    continue\n",
    "                    \n",
    "                out.write(frame)\n",
    "        finally:\n",
    "            out.release()\n",
    "\n",
    "    def process(self):\n",
    "        \"\"\"執行完整的處理流程\"\"\"\n",
    "        try:\n",
    "            self.logger.info(\"開始處理影片\")\n",
    "            self.setup_folders()\n",
    "            \n",
    "            self.logger.info(\"提取影片幀\")\n",
    "            frame_width, frame_height, frame_count = self.extract_frames()\n",
    "            \n",
    "            self.logger.info(\"執行 YOLO 偵測\")\n",
    "            self.run_yolo_detection()\n",
    "            \n",
    "            self.logger.info(\"移動偵測後的圖片\")\n",
    "            self.move_detected_images()\n",
    "            \n",
    "            self.logger.info(\"合成輸出影片\")\n",
    "            self.create_video(frame_width, frame_height)\n",
    "            \n",
    "            self.logger.info(f\"處理完成，輸出影片: {self.output_video}\")\n",
    "            \n",
    "        except Exception as e:\n",
    "            self.logger.error(f\"處理過程中發生錯誤: {e}\")\n",
    "            raise\n",
    "    \n",
    "\n",
    "if __name__ == \"__main__\":\n",
    "    # 設定路徑\n",
    "    VIDEO_PATH = 'C:/Users/Admin/Desktop/yolov9/yolov9/data/test/videos/nccdtest1.avi'\n",
    "    FRAMES_FOLDER = 'C:/Users/Admin/Desktop/yolov9/yolov9/runs/result/TEST1/img/0215'\n",
    "    DETECTED_FOLDER = 'C:/Users/Admin/Desktop/yolov9/yolov9/runs/result/TEST1/dimg/0215'\n",
    "    OUTPUT_VIDEO = 'C:/Users/Admin/Desktop/yolov9/yolov9/runs/result/TEST1/vid/0215.avi'\n",
    "    WEIGHTS_PATH = 'C:/Users/Admin/Desktop/yolov9/yolov9/runs/train/exp5/weights/best.pt'  \n",
    "\n",
    "    # 設定每秒要擷取的畫面數量\n",
    "    SAMPLE_RATE = 30  \n",
    "\n",
    "    processor = VideoProcessor(\n",
    "        video_path=VIDEO_PATH,\n",
    "        frames_folder=FRAMES_FOLDER,\n",
    "        detected_folder=DETECTED_FOLDER,\n",
    "        output_video=OUTPUT_VIDEO,\n",
    "        weights_path=WEIGHTS_PATH,\n",
    "        sample_rate=SAMPLE_RATE  # 新增取樣率參數\n",
    "    )\n",
    "    \n",
    "    processor.process()"
   ]
  },
  {
   "cell_type": "markdown",
   "id": "3a66c3ba-050f-438e-9a7d-54c6c183ec13",
   "metadata": {},
   "source": [
    "## 單幀照片辨識\n"
   ]
  },
  {
   "cell_type": "code",
   "execution_count": 1,
   "id": "a2de0371-6d6f-467f-ac7e-4660a9e7d5a8",
   "metadata": {},
   "outputs": [
    {
     "name": "stdout",
     "output_type": "stream",
     "text": [
      "2.6.0+cu118\n",
      "True\n",
      "11.8\n"
     ]
    }
   ],
   "source": [
    "import torch\n",
    "print(torch.__version__)  # PyTorch 版本\n",
    "print(torch.cuda.is_available())  # 是否偵測到 GPU\n",
    "print(torch.version.cuda)  # CUDA 版本\n"
   ]
  },
  {
   "cell_type": "code",
   "execution_count": 2,
   "id": "5ff48ea4-87c1-49cf-9d94-dc92c2fc829f",
   "metadata": {},
   "outputs": [
    {
     "name": "stdout",
     "output_type": "stream",
     "text": [
      "C:\\Users\\Admin\\Desktop\\yolov9\n"
     ]
    }
   ],
   "source": [
    "import os\n",
    "HOME = os.getcwd()\n",
    "print (HOME)"
   ]
  },
  {
   "cell_type": "code",
   "execution_count": 3,
   "id": "33da97cf-d691-4645-a4b8-0cd0555c06b8",
   "metadata": {},
   "outputs": [
    {
     "name": "stdout",
     "output_type": "stream",
     "text": [
      "C:\\Users\\Admin\\Desktop\\yolov9\\yolov9\n"
     ]
    }
   ],
   "source": [
    "%cd {HOME}/yolov9"
   ]
  },
  {
   "cell_type": "code",
   "execution_count": 10,
   "id": "db2c4d49-6ec8-4ae7-9e3d-fbde254df21a",
   "metadata": {},
   "outputs": [
    {
     "name": "stderr",
     "output_type": "stream",
     "text": [
      "INFO:__main__:開始 YOLO 偵測\n",
      "INFO:__main__:YOLO 偵測完成\n",
      "INFO:__main__:找到最新的 exp 資料夾: runs\\detect\\exp51\n",
      "INFO:__main__:偵測後的圖片已儲存至: C:\\Users\\Admin\\Desktop\\yolov9\\yolov9\\runs\\result\\TEST1\\dimg\\test2\\20241123_006_jpg.rf.59efd44cb90bd453682ec62d69e5089a.jpg\n",
      "INFO:__main__:處理完成，總耗時: 8.41 秒\n"
     ]
    },
    {
     "name": "stdout",
     "output_type": "stream",
     "text": [
      "✅ 偵測結果已儲存至: C:\\Users\\Admin\\Desktop\\yolov9\\yolov9\\runs\\result\\TEST1\\json\\0305.json\n"
     ]
    }
   ],
   "source": [
    "import subprocess\n",
    "import os\n",
    "import json\n",
    "import cv2\n",
    "from pathlib import Path\n",
    "import logging\n",
    "import shutil\n",
    "import time\n",
    "\n",
    "def setup_logging():\n",
    "    logging.basicConfig(level=logging.INFO)\n",
    "    return logging.getLogger(__name__)\n",
    "\n",
    "def run_yolo_detection(image_path: str, weights_path: str, output_folder: str):\n",
    "    \"\"\"執行 YOLO 偵測\"\"\"\n",
    "    logger.info(\"開始 YOLO 偵測\")\n",
    "    output_dir = Path(output_folder)\n",
    "    output_dir.mkdir(parents=True, exist_ok=True)\n",
    "    \n",
    "    subprocess.run([\n",
    "        \"python\", \"detect.py\",\n",
    "        \"--img\", \"640\",\n",
    "        \"--conf\", \"0.1\",\n",
    "        \"--device\", \"0\",\n",
    "        \"--weights\", weights_path,\n",
    "        \"--source\", image_path ,\n",
    "        \"--save-txt\"\n",
    "    ], capture_output=True,check=True)\n",
    "    \n",
    "    logger.info(\"YOLO 偵測完成\")\n",
    "\n",
    "def get_latest_exp_folder() -> Path:\n",
    "    \"\"\"找出 YOLO 產生的最新 exp 資料夾\"\"\"\n",
    "    base_dir = Path(\"runs/detect\")\n",
    "    if not base_dir.exists():\n",
    "        raise RuntimeError(f\"找不到 detect 資料夾: {base_dir}\")\n",
    "    \n",
    "    exp_folders = [f for f in base_dir.iterdir() if f.is_dir() and f.name.startswith('exp')]\n",
    "    if not exp_folders:\n",
    "        raise RuntimeError(\"找不到任何 exp 資料夾\")\n",
    "    \n",
    "    latest_exp = max(exp_folders, key=lambda x: int(x.name.replace(\"exp\", \"\") or 0))\n",
    "    logger.info(f\"找到最新的 exp 資料夾: {latest_exp}\")\n",
    "    return latest_exp\n",
    "\n",
    "def move_detected_image(exp_folder: Path, detected_folder: Path):\n",
    "    \"\"\"移動 YOLO 偵測後的圖片\"\"\"\n",
    "    detected_folder.mkdir(parents=True, exist_ok=True)\n",
    "    img_files = list(exp_folder.glob(\"*.jpg\"))\n",
    "    \n",
    "    if not img_files:\n",
    "        raise RuntimeError(\"未找到偵測後的圖片\")\n",
    "    \n",
    "    target_img_path = detected_folder / img_files[0].name\n",
    "    shutil.move(str(img_files[0]), str(target_img_path))\n",
    "    logger.info(f\"偵測後的圖片已儲存至: {target_img_path}\")\n",
    "    return target_img_path\n",
    "\n",
    "def parse_detection_results(exp_folder: Path, output_json: str):\n",
    "    \"\"\"解析 YOLO 偵測結果並存成 JSON，並為每個粒子分配唯一編號\"\"\"\n",
    "\n",
    "    # 1️確保 output_json 指向一個 JSON 檔案，而不是資料夾\n",
    "    output_path = Path(output_json)\n",
    "    if output_path.is_dir():  \n",
    "        output_path = output_path / \"detection_results.json\"  # 自動加上 JSON 檔名\n",
    "    elif not output_path.suffix:  \n",
    "        output_path = output_path.with_suffix(\".json\")  # 如果沒有副檔名，補上 .json\n",
    "\n",
    "    output_path.parent.mkdir(parents=True, exist_ok=True)  # 確保目錄存在\n",
    "\n",
    "    txt_files = list(exp_folder.glob(\"labels/*.txt\"))\n",
    "    if not txt_files:\n",
    "        raise RuntimeError(\"未找到偵測後的座標文件\")\n",
    "\n",
    "    detections = []\n",
    "    with txt_files[0].open(\"r\") as f:\n",
    "        for i, line in enumerate(f.readlines()):\n",
    "            values = line.strip().split()\n",
    "            if len(values) < 5:\n",
    "                continue\n",
    "            \n",
    "            class_id = int(values[0])\n",
    "            x_center, y_center, width, height = map(float, values[1:5])\n",
    "\n",
    "            detection = {\n",
    "                \"particle_id\": i + 1,\n",
    "                \"class_id\": class_id,\n",
    "                \"x_center\": x_center,\n",
    "                \"y_center\": y_center,\n",
    "                \"width\": width,\n",
    "                \"height\": height\n",
    "            }\n",
    "            detections.append(detection)\n",
    "\n",
    "    # 2確保 JSON 檔案名稱正確後，再寫入\n",
    "    with output_path.open(\"w\", encoding=\"utf-8\") as json_file:\n",
    "        json.dump(detections, json_file, indent=4)\n",
    "\n",
    "    print(f\"偵測結果已儲存至: {output_path}\")\n",
    "    return str(output_path)\n",
    "\n",
    "def process_image(image_path: str, weights_path: str, detected_folder: str, output_json: str):\n",
    "    \"\"\"完整處理流程: 影像辨識、結果儲存、座標輸出，並計算所需時間\"\"\"\n",
    "    start_time = time.time()  # 記錄開始時間\n",
    "\n",
    "    run_yolo_detection(image_path, weights_path, detected_folder)\n",
    "    exp_folder = get_latest_exp_folder()\n",
    "    detected_img = move_detected_image(exp_folder, Path(detected_folder))\n",
    "    \n",
    "    image_name = Path(image_path).stem  # 取得圖片名稱（不含副檔名）\n",
    "    result_json = parse_detection_results(exp_folder, output_json)\n",
    "\n",
    "    end_time = time.time()  # 記錄結束時間\n",
    "    elapsed_time = end_time - start_time  # 計算總時間\n",
    "    \n",
    "    logger.info(f\"處理完成，總耗時: {elapsed_time:.2f} 秒\")\n",
    "    return detected_img, result_json, elapsed_time\n",
    "\n",
    "if __name__ == \"__main__\":\n",
    "    logger = setup_logging()\n",
    "    \n",
    "    # 設定路徑\n",
    "    IMAGE_PATH = \"C:/Users/Admin/Desktop/yolov9/yolov9/data/test/images/20241123_006_jpg.rf.59efd44cb90bd453682ec62d69e5089a.jpg\"\n",
    "    WEIGHTS_PATH = \"C:/Users/Admin/Desktop/yolov9/yolov9/runs/train/exp5/weights/best.pt\"\n",
    "    DETECTED_FOLDER = \"C:/Users/Admin/Desktop/yolov9/yolov9/runs/result/TEST1/dimg/test2\"\n",
    "    OUTPUT_JSON = \"C:/Users/Admin/Desktop/yolov9/yolov9/runs/result/TEST1/json/0305\"\n",
    "    \n",
    "    process_image(IMAGE_PATH, WEIGHTS_PATH, DETECTED_FOLDER, OUTPUT_JSON)"
   ]
  },
  {
   "cell_type": "code",
   "execution_count": 6,
   "id": "925041d8-331f-4209-9bf6-26d9ab0f472a",
   "metadata": {},
   "outputs": [
    {
     "name": "stdout",
     "output_type": "stream",
     "text": [
      "資料夾可存取\n"
     ]
    }
   ],
   "source": [
    "import os\n",
    "\n",
    "test_path = \"C:/Users/Admin/Desktop/yolov9/yolov9/runs/result/TEST1/json/0305\"\n",
    "if not os.path.exists(test_path):\n",
    "    os.makedirs(test_path, exist_ok=True)\n",
    "print(\"資料夾可存取\")\n"
   ]
  },
  {
   "cell_type": "code",
   "execution_count": null,
   "id": "9f825b83-b799-465f-8ce0-72b6069945b1",
   "metadata": {},
   "outputs": [],
   "source": []
  }
 ],
 "metadata": {
  "kernelspec": {
   "display_name": "Python 3 (ipykernel)",
   "language": "python",
   "name": "python3"
  },
  "language_info": {
   "codemirror_mode": {
    "name": "ipython",
    "version": 3
   },
   "file_extension": ".py",
   "mimetype": "text/x-python",
   "name": "python",
   "nbconvert_exporter": "python",
   "pygments_lexer": "ipython3",
   "version": "3.12.4"
  }
 },
 "nbformat": 4,
 "nbformat_minor": 5
}
