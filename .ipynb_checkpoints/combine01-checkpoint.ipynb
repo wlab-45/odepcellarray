{
 "cells": [
  {
   "cell_type": "markdown",
   "metadata": {},
   "source": [
    "辨識"
   ]
  },
  {
   "cell_type": "code",
   "execution_count": 1,
   "metadata": {
    "vscode": {
     "languageId": "plaintext"
    }
   },
   "outputs": [
    {
     "name": "stdout",
     "output_type": "stream",
     "text": [
      "C:\\Users\\Admin\\Desktop\\yolov9\n"
     ]
    }
   ],
   "source": [
    "import os\n",
    "HOME = os.getcwd()\n",
    "print (HOME)"
   ]
  },
  {
   "cell_type": "code",
   "execution_count": 2,
   "metadata": {
    "vscode": {
     "languageId": "plaintext"
    }
   },
   "outputs": [
    {
     "name": "stdout",
     "output_type": "stream",
     "text": [
      "C:\\Users\\Admin\\Desktop\\yolov9\\yolov9\n"
     ]
    }
   ],
   "source": [
    "%cd {HOME}/yolov9"
   ]
  },
  {
   "cell_type": "code",
   "execution_count": 11,
   "metadata": {
    "vscode": {
     "languageId": "plaintext"
    }
   },
   "outputs": [
    {
     "name": "stdout",
     "output_type": "stream",
     "text": [
      "空白鍵被按下\n",
      "截圖完成！\n",
      "開始辨識中...\n",
      "辨識完成！耗時 52.59 秒\n",
      "未找到偵測結果檔案：runs/detect\\exp53\\labels\\temp_screenshot.txt\n"
     ]
    },
    {
     "ename": "SystemExit",
     "evalue": "0",
     "output_type": "error",
     "traceback": [
      "An exception has occurred, use %tb to see the full traceback.\n",
      "\u001b[1;31mSystemExit\u001b[0m\u001b[1;31m:\u001b[0m 0\n"
     ]
    },
    {
     "name": "stderr",
     "output_type": "stream",
     "text": [
      "C:\\Users\\Admin\\AppData\\Roaming\\Python\\Python312\\site-packages\\IPython\\core\\interactiveshell.py:3585: UserWarning: To exit: use 'exit', 'quit', or Ctrl-D.\n",
      "  warn(\"To exit: use 'exit', 'quit', or Ctrl-D.\", stacklevel=1)\n"
     ]
    }
   ],
   "source": [
    "import sys\n",
    "import json\n",
    "import cv2\n",
    "import numpy as np\n",
    "import pyautogui\n",
    "import subprocess\n",
    "import time\n",
    "import os\n",
    "import glob\n",
    "from PyQt5.QtWidgets import QApplication, QWidget, QLabel, QVBoxLayout, QPushButton, QHBoxLayout\n",
    "from PyQt5.QtGui import QPixmap, QImage\n",
    "from PyQt5.QtCore import Qt\n",
    "\n",
    "# 設定截圖範圍 (手動設定座標)\n",
    "X1, Y1, X2, Y2 = 0, 0, 1820, 1080  # 左上角 (0,0) 到 右下角 (1820,1080)\n",
    "\n",
    "class ParticleSelector(QWidget):\n",
    "    def __init__(self):\n",
    "        super().__init__()\n",
    "        self.image = None  # 初始沒有影像\n",
    "        self.particle_data = []  # 存放辨識結果\n",
    "        self.initUI()\n",
    "        \n",
    "        # 設定視窗獲取焦點，以便接收鍵盤事件\n",
    "        self.setFocusPolicy(Qt.StrongFocus)\n",
    "        \n",
    "    def capture_screenshot(self):\n",
    "        \"\"\"擷取指定範圍的螢幕截圖，轉換為 OpenCV 格式\"\"\"\n",
    "        screenshot = pyautogui.screenshot(region=(X1, Y1, X2 - X1, Y2 - Y1))\n",
    "        screenshot = np.array(screenshot)\n",
    "        self.image = cv2.cvtColor(screenshot, cv2.COLOR_RGB2BGR)\n",
    "        self.display_image()\n",
    "        print(\"截圖完成！\")\n",
    "        \n",
    "    def run_yolo_detection(self):\n",
    "        \"\"\"執行 YOLO 偵測並計時\"\"\"\n",
    "        if self.image is None:\n",
    "            print(\"請先截圖！\")\n",
    "            return\n",
    "        \n",
    "        # 開始計時\n",
    "        start_time = time.time()\n",
    "        print(\"開始辨識中...\")\n",
    "        \n",
    "        # 禁用按鈕，避免重複點擊\n",
    "        self.detect_button.setEnabled(False)\n",
    "        self.detect_button.setText(\"辨識中...\")\n",
    "        \n",
    "        # 更新狀態\n",
    "        self.status_label.setText(\"辨識中...\")\n",
    "        \n",
    "        # 儲存臨時圖片\n",
    "        cv2.imwrite(\"temp_screenshot.jpg\", self.image)  # 暫存圖片供 YOLO 使用\n",
    "        \n",
    "        # 執行YOLO偵測\n",
    "        result = subprocess.run([\n",
    "            \"python\", \"detect.py\",\n",
    "            \"--img\", \"640\",\n",
    "            \"--conf\", \"0.1\",\n",
    "            \"--device\", \"0\",\n",
    "            \"--weights\", weights_path,\n",
    "            \"--source\", \"temp_screenshot.jpg\",\n",
    "            \"--save-txt\"\n",
    "        ], capture_output=True, text=True)\n",
    "        \n",
    "        # 計算經過的時間\n",
    "        elapsed_time = time.time() - start_time\n",
    "        print(f\"辨識完成！耗時 {elapsed_time:.2f} 秒\")\n",
    "        \n",
    "        # 載入偵測結果\n",
    "        self.load_detection_results()\n",
    "        \n",
    "        # 重新啟用按鈕\n",
    "        self.detect_button.setEnabled(True)\n",
    "        self.detect_button.setText(\"開始辨識\")\n",
    "         \n",
    "    def load_detection_results(self):\n",
    "        \"\"\"載入 YOLO 偵測結果，存入 particle_data\"\"\"\n",
    "        # 尋找最新的實驗資料夾\n",
    "        exp_folders = glob.glob(\"runs/detect/exp*\")\n",
    "        if not exp_folders:\n",
    "            print(\"未找到任何偵測結果資料夾！\")\n",
    "            return\n",
    "        \n",
    "        # 根據資料夾修改時間排序，取最新的\n",
    "        latest_exp = max(exp_folders, key=os.path.getmtime)\n",
    "        result_path = os.path.join(latest_exp, \"labels\", \"temp_screenshot.txt\")\n",
    "        \n",
    "        try:\n",
    "            with open(result_path, \"r\") as f:\n",
    "                detections = []\n",
    "                for i, line in enumerate(f.readlines()):\n",
    "                    values = line.strip().split()\n",
    "                    if len(values) < 5:\n",
    "                        continue\n",
    "                    class_id = int(values[0])\n",
    "                    x_center, y_center, width, height = map(float, values[1:5])\n",
    "                    detections.append({\n",
    "                        \"particle_id\": i + 1,\n",
    "                        \"class_id\": class_id,\n",
    "                        \"x_center\": x_center,\n",
    "                        \"y_center\": y_center,\n",
    "                        \"width\": width,\n",
    "                        \"height\": height\n",
    "                    })\n",
    "                self.particle_data = detections\n",
    "                \n",
    "                # 更新狀態標籤\n",
    "                particles_count = len(detections)\n",
    "                self.status_label.setText(f\"辨識到 {particles_count} 個物體，已存入 particle_data\")\n",
    "                \n",
    "                print(f\"從 {result_path} 載入偵測結果\")\n",
    "                print(\"偵測完成！\", self.particle_data)\n",
    "        except FileNotFoundError:\n",
    "            print(f\"未找到偵測結果檔案：{result_path}\")\n",
    "            self.status_label.setText(\"未找到偵測結果檔案\")\n",
    "            \n",
    "    def initUI(self):\n",
    "        \"\"\"建立 UI 介面\"\"\"\n",
    "        self.setWindowTitle(\"粒子選擇器\")\n",
    "        self.setGeometry(100, 100, 800, 600)\n",
    "        \n",
    "        # 主 layout\n",
    "        main_layout = QVBoxLayout()\n",
    "        \n",
    "        # 顯示影像\n",
    "        self.image_label = QLabel(self)\n",
    "        main_layout.addWidget(self.image_label)\n",
    "        \n",
    "        # 按鈕區域\n",
    "        buttons_layout = QHBoxLayout()\n",
    "        \n",
    "        # 截圖按鈕\n",
    "        self.capture_button = QPushButton(\"截圖 (空白鍵)\", self)\n",
    "        self.capture_button.clicked.connect(self.capture_screenshot)\n",
    "        buttons_layout.addWidget(self.capture_button)\n",
    "        \n",
    "        # 開始辨識按鈕\n",
    "        self.detect_button = QPushButton(\"開始辨識\", self)\n",
    "        self.detect_button.clicked.connect(self.run_yolo_detection)\n",
    "        buttons_layout.addWidget(self.detect_button)\n",
    "        \n",
    "        main_layout.addLayout(buttons_layout)\n",
    "        \n",
    "        # 添加說明標籤\n",
    "        instructions = QLabel(\"使用說明：\\n1. 按下空白鍵或點擊「截圖」按鈕擷取螢幕\\n2. 點擊「開始辨識」按鈕執行 YOLO 偵測\")\n",
    "        main_layout.addWidget(instructions)\n",
    "        \n",
    "        # 新增狀態標籤\n",
    "        self.status_label = QLabel(\"就緒\")\n",
    "        self.status_label.setAlignment(Qt.AlignCenter)\n",
    "        # 設定標籤樣式\n",
    "        self.status_label.setStyleSheet(\"font-size: 14px; color: blue; margin-top: 10px;\")\n",
    "        main_layout.addWidget(self.status_label)\n",
    "        \n",
    "        self.setLayout(main_layout)\n",
    "        \n",
    "    def display_image(self):\n",
    "        \"\"\"顯示擷取的影像\"\"\"\n",
    "        if self.image is None:\n",
    "            return\n",
    "        \n",
    "        image = cv2.cvtColor(self.image, cv2.COLOR_BGR2RGB)\n",
    "        height, width, channel = image.shape\n",
    "        bytes_per_line = 3 * width\n",
    "        q_image = QImage(image.data, width, height, bytes_per_line, QImage.Format_RGB888)\n",
    "        self.image_label.setPixmap(QPixmap.fromImage(q_image))\n",
    "        \n",
    "    def keyPressEvent(self, event):\n",
    "        \"\"\"當使用者按下空白鍵時重新截圖\"\"\"\n",
    "        if event.key() == Qt.Key_Space:\n",
    "            print(\"空白鍵被按下\")\n",
    "            self.capture_screenshot()\n",
    "        # 新增 ESC 鍵關閉程式\n",
    "        elif event.key() == Qt.Key_Escape:\n",
    "            self.close()\n",
    "\n",
    "if __name__ == \"__main__\":\n",
    "    WEIGHTS_PATH = \"C:/Users/Admin/Desktop/yolov9/yolov9/runs/train/exp5/weights/best.pt\"\n",
    "    app = QApplication(sys.argv)\n",
    "    window = ParticleSelector()\n",
    "    window.show()\n",
    "    sys.exit(app.exec_())"
   ]
  },
  {
   "cell_type": "markdown",
   "metadata": {},
   "source": [
    "## 測試截圖位置\n",
    "\n"
   ]
  },
  {
   "cell_type": "code",
   "execution_count": 5,
   "metadata": {},
   "outputs": [
    {
     "name": "stdout",
     "output_type": "stream",
     "text": [
      "將在3秒後截圖...\n",
      "已截取 (100, 100) 到 (500, 400) 的區域，並保存為 my_screenshot.png\n"
     ]
    }
   ],
   "source": [
    "import pyautogui\n",
    "import time\n",
    "from PIL import Image\n",
    "\n",
    "def capture_specific_area(x1, y1, x2, y2, output_filename=\"screenshot.png\"):\n",
    "    \"\"\"\n",
    "    截取螢幕上指定座標範圍的區域\n",
    "    \n",
    "    參數:\n",
    "    x1, y1: 左上角座標\n",
    "    x2, y2: 右下角座標\n",
    "    output_filename: 輸出檔案名稱\n",
    "    \"\"\"\n",
    "    # 計算寬度和高度\n",
    "    width = x2 - x1\n",
    "    height = y2 - y1\n",
    "    \n",
    "    # 截取指定區域的螢幕\n",
    "    screenshot = pyautogui.screenshot(region=(x1, y1, width, height))\n",
    "    \n",
    "    # 儲存截圖\n",
    "    screenshot.save(output_filename)\n",
    "    print(f\"已截取 ({x1}, {y1}) 到 ({x2}, {y2}) 的區域，並保存為 {output_filename}\")\n",
    "    \n",
    "    return screenshot\n",
    "\n",
    "if __name__ == \"__main__\":\n",
    "    # 設定要截取的區域座標\n",
    "    x1, y1 = 100, 100  # 左上角座標\n",
    "    x2, y2 = 500, 400  # 右下角座標\n",
    "    \n",
    "    # 延遲3秒，給使用者時間準備\n",
    "    print(\"將在3秒後截圖...\")\n",
    "    time.sleep(3)\n",
    "    \n",
    "    # 執行截圖\n",
    "    capture_specific_area(x1, y1, x2, y2, \"my_screenshot.png\")"
   ]
  },
  {
   "cell_type": "code",
   "execution_count": 4,
   "metadata": {},
   "outputs": [
    {
     "name": "stdout",
     "output_type": "stream",
     "text": [
      "Collecting pyautogui\n",
      "  Using cached PyAutoGUI-0.9.54-py3-none-any.whl\n",
      "Collecting pymsgbox (from pyautogui)\n",
      "  Using cached PyMsgBox-1.0.9-py3-none-any.whl\n",
      "Collecting pytweening>=1.0.4 (from pyautogui)\n",
      "  Using cached pytweening-1.2.0-py3-none-any.whl\n",
      "Collecting pyscreeze>=0.1.21 (from pyautogui)\n",
      "  Using cached PyScreeze-1.0.1-py3-none-any.whl\n",
      "Collecting pygetwindow>=0.0.5 (from pyautogui)\n",
      "  Using cached PyGetWindow-0.0.9-py3-none-any.whl\n",
      "Collecting mouseinfo (from pyautogui)\n",
      "  Using cached MouseInfo-0.1.3-py3-none-any.whl\n",
      "Collecting pyrect (from pygetwindow>=0.0.5->pyautogui)\n",
      "  Using cached PyRect-0.2.0-py2.py3-none-any.whl\n",
      "Collecting pyperclip (from mouseinfo->pyautogui)\n",
      "  Using cached pyperclip-1.9.0-py3-none-any.whl\n",
      "Installing collected packages: pytweening, pyscreeze, pyrect, pyperclip, pymsgbox, pygetwindow, mouseinfo, pyautogui\n",
      "Successfully installed mouseinfo-0.1.3 pyautogui-0.9.54 pygetwindow-0.0.9 pymsgbox-1.0.9 pyperclip-1.9.0 pyrect-0.2.0 pyscreeze-1.0.1 pytweening-1.2.0\n"
     ]
    }
   ],
   "source": [
    "!pip install pyautogui\n"
   ]
  },
  {
   "cell_type": "code",
   "execution_count": 12,
   "metadata": {},
   "outputs": [
    {
     "ename": "NameError",
     "evalue": "name 'particle_data' is not defined",
     "output_type": "error",
     "traceback": [
      "\u001b[1;31m---------------------------------------------------------------------------\u001b[0m",
      "\u001b[1;31mNameError\u001b[0m                                 Traceback (most recent call last)",
      "Cell \u001b[1;32mIn[12], line 1\u001b[0m\n\u001b[1;32m----> 1\u001b[0m \u001b[38;5;28mprint\u001b[39m(\u001b[43mparticle_data\u001b[49m)\n",
      "\u001b[1;31mNameError\u001b[0m: name 'particle_data' is not defined"
     ]
    }
   ],
   "source": [
    "print(particle_data)"
   ]
  },
  {
   "cell_type": "code",
   "execution_count": null,
   "metadata": {},
   "outputs": [],
   "source": []
  }
 ],
 "metadata": {
  "kernelspec": {
   "display_name": "Python 3 (ipykernel)",
   "language": "python",
   "name": "python3"
  },
  "language_info": {
   "codemirror_mode": {
    "name": "ipython",
    "version": 3
   },
   "file_extension": ".py",
   "mimetype": "text/x-python",
   "name": "python",
   "nbconvert_exporter": "python",
   "pygments_lexer": "ipython3",
   "version": "3.12.4"
  }
 },
 "nbformat": 4,
 "nbformat_minor": 4
}
